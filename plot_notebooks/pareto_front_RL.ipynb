{
 "cells": [
  {
   "cell_type": "code",
   "execution_count": 2,
   "metadata": {
    "pycharm": {
     "is_executing": true
    }
   },
   "outputs": [],
   "source": [
    "import pandas as pd\n",
    "import matplotlib.pyplot as plt\n",
    "import matplotlib\n",
    "import random\n",
    "import numpy as np\n",
    "import os\n",
    "import matplotlib.pyplot as plt\n",
    "from matplotlib.gridspec import GridSpec\n",
    "import seaborn as sns\n",
    "import wandb"
   ]
  },
  {
   "cell_type": "code",
   "execution_count": 3,
   "metadata": {},
   "outputs": [
    {
     "name": "stdout",
     "output_type": "stream",
     "text": [
      "{'wpvidr37': 'w_perf:0.01, w_res:0.99, w_adp:0', '19ml8kbt': 'w_perf:0.01, w_res:0.99, w_adp:0', 'rvfm8jbx': 'w_perf:0.01, w_res:0.99, w_adp:0', '17b5ngb3': 'w_perf:0.01, w_res:0.99, w_adp:0', '1m7im95y': 'w_perf:0.01, w_res:0.99, w_adp:0', 'xd6gnw37': 'w_perf:0.99, w_res:0.01, w_adp:0', '81doo7an': 'w_perf:0.99, w_res:0.01, w_adp:0', '19fjlx38': 'w_perf:0.99, w_res:0.01, w_adp:0', 'j2r6hml4': 'w_perf:0.99, w_res:0.01, w_adp:0', '26j4yuvm': 'w_perf:0.99, w_res:0.01, w_adp:0'}\n"
     ]
    },
    {
     "data": {
      "text/plain": [
       "10"
      ]
     },
     "execution_count": 3,
     "metadata": {},
     "output_type": "execute_result"
    }
   ],
   "source": [
    "# Get train run IDs and get labels\n",
    "\n",
    "api = wandb.Api()\n",
    "entity, project = \"psotoarenas\", \"RL-scalers-conf\"\n",
    "\n",
    "runs = api.runs(entity + \"/\" + project)\n",
    "dict_labels = {}\n",
    "for run in runs:\n",
    "    if run.state == \"finished\" and run.config['mode'] == \"train\":\n",
    "        if run.config['w_adp'] == 0. and run.config['timesteps'] == 259200:            \n",
    "            # the labels are going to be configuration of weights used during training.\n",
    "            label = f\"w_perf:{run.config['w_perf']}, w_res:{run.config['w_res']}, w_adp:{run.config['w_adp']}\"\n",
    "            dict_labels[run.id] = label\n",
    "print(dict_labels)\n",
    "len(dict_labels)       "
   ]
  },
  {
   "cell_type": "code",
   "execution_count": 4,
   "metadata": {},
   "outputs": [
    {
     "name": "stdout",
     "output_type": "stream",
     "text": [
      "w_perf:0.01, w_res:0.99, w_adp:0_12bl5n0j.traces\n",
      "Logs found with name python-20220403-201206.traces\n",
      "Saving test logfile to ./logs/w_perf:0.01, w_res:0.99, w_adp:0_12bl5n0j.traces\n",
      "w_perf:0.01, w_res:0.99, w_adp:0_1nx9qe7p.traces\n",
      "Logs found with name python-20220403-172842.traces\n",
      "Saving test logfile to ./logs/w_perf:0.01, w_res:0.99, w_adp:0_1nx9qe7p.traces\n",
      "w_perf:0.01, w_res:0.99, w_adp:0_ssn95t6g.traces\n",
      "Logs found with name python-20220402-235840.traces\n",
      "Saving test logfile to ./logs/w_perf:0.01, w_res:0.99, w_adp:0_ssn95t6g.traces\n",
      "w_perf:0.01, w_res:0.99, w_adp:0_3u5j4y9d.traces\n",
      "Logs found with name python-20220402-213902.traces\n",
      "Saving test logfile to ./logs/w_perf:0.01, w_res:0.99, w_adp:0_3u5j4y9d.traces\n",
      "w_perf:0.01, w_res:0.99, w_adp:0_1ctjdequ.traces\n",
      "Logs found with name python-20220402-185010.traces\n",
      "Saving test logfile to ./logs/w_perf:0.01, w_res:0.99, w_adp:0_1ctjdequ.traces\n",
      "w_perf:0.99, w_res:0.01, w_adp:0_chr0h9sj.traces\n",
      "Logs found with name python-20220402-175406.traces\n",
      "Saving test logfile to ./logs/w_perf:0.99, w_res:0.01, w_adp:0_chr0h9sj.traces\n",
      "w_perf:0.99, w_res:0.01, w_adp:0_5a3eu0vl.traces\n",
      "Logs found with name python-20220402-140130.traces\n",
      "Saving test logfile to ./logs/w_perf:0.99, w_res:0.01, w_adp:0_5a3eu0vl.traces\n",
      "w_perf:0.99, w_res:0.01, w_adp:0_1mbns79q.traces\n",
      "Logs found with name python-20220402-083818.traces\n",
      "Saving test logfile to ./logs/w_perf:0.99, w_res:0.01, w_adp:0_1mbns79q.traces\n",
      "w_perf:0.99, w_res:0.01, w_adp:0_m6xl7uld.traces\n",
      "Logs found with name python-20220402-001032.traces\n",
      "Saving test logfile to ./logs/w_perf:0.99, w_res:0.01, w_adp:0_m6xl7uld.traces\n",
      "w_perf:0.99, w_res:0.01, w_adp:0_2we2ejoi.traces\n",
      "Logs found with name python-20220401-184355.traces\n",
      "Saving test logfile to ./logs/w_perf:0.99, w_res:0.01, w_adp:0_2we2ejoi.traces\n"
     ]
    }
   ],
   "source": [
    "# Get test run traces to compute pareto \n",
    "\n",
    "api = wandb.Api()\n",
    "entity, project = \"psotoarenas\", \"RL-scalers-conf\"\n",
    "\n",
    "runs = api.runs(entity + \"/\" + project)\n",
    "for run in runs:\n",
    "    if run.state == \"finished\" and run.config['mode'] == \"test\":\n",
    "        train_run_id = run.config[\"run_id\"].split('/')[-1]\n",
    "        if train_run_id in dict_labels.keys():\n",
    "            label = dict_labels[train_run_id]\n",
    "            name = f\"{label}_{run.id}.traces\"\n",
    "            print(name)\n",
    "            root = \"./logs/\"\n",
    "            for file in run.files():\n",
    "                if file.name.startswith(\"python\") and file.name.endswith(\"traces\"):\n",
    "                    logs = file.name\n",
    "                    print(f\"Logs found with name {logs}\")\n",
    "            if not logs:\n",
    "                logs = \"output.log\"\n",
    "                print(f\"No logs found. Downloading default logs {logs}\")\n",
    "            run.file(logs).download(root=root, replace=True)\n",
    "            log_old_filename = os.path.join(root, logs)\n",
    "            log_new_filename = os.path.join(root, name)\n",
    "            print(f\"Saving test logfile to {log_new_filename}\")\n",
    "            os.rename(log_old_filename, log_new_filename)\n",
    "            \n",
    "            "
   ]
  },
  {
   "cell_type": "code",
   "execution_count": 5,
   "metadata": {},
   "outputs": [],
   "source": [
    "# auxiliary data for parse results\n",
    "def parse_results(traces_filename, label):\n",
    "    ms = []\n",
    "    peak_latency = []\n",
    "    labels = []\n",
    "    with open(traces_filename) as f:\n",
    "        current_step = 0\n",
    "        cumulative_reward = 0\n",
    "        for line in f:\n",
    "            try:\n",
    "                line = line.rstrip().split(\"|\")[-1]\n",
    "                if line.startswith(\"MS\"):\n",
    "                    ms.append(int(line.split(\":\")[-1].rstrip()))\n",
    "                    labels.append(label)\n",
    "                if line.startswith(\"Peak Latency\"):\n",
    "                    peak_latency.append(float(line.split(\":\")[-1].rstrip()))\n",
    "            except:\n",
    "                print(line)\n",
    "    return ms, peak_latency, labels"
   ]
  },
  {
   "cell_type": "code",
   "execution_count": 6,
   "metadata": {
    "pycharm": {
     "name": "#%%\n"
    }
   },
   "outputs": [
    {
     "name": "stdout",
     "output_type": "stream",
     "text": [
      "w_perf:0.01, w_res:0.99, w_adp:0_1ctjdequ.traces\n",
      "172801 172801 172801\n",
      "w_perf:0.99, w_res:0.01, w_adp:0_m6xl7uld.traces\n",
      "173006 173006 173006\n",
      "w_perf:0.99, w_res:0.01, w_adp:0_2we2ejoi.traces\n",
      "172801 172801 172801\n",
      "w_perf:0.99, w_res:0.01, w_adp:0_chr0h9sj.traces\n",
      "172801 172801 172801\n",
      "w_perf:0.99, w_res:0.01, w_adp:0_1mbns79q.traces\n",
      "172801 172801 172801\n",
      "w_perf:0.01, w_res:0.99, w_adp:0_12bl5n0j.traces\n",
      "172801 172801 172801\n",
      "w_perf:0.01, w_res:0.99, w_adp:0_3u5j4y9d.traces\n",
      "172801 172801 172801\n",
      "w_perf:0.01, w_res:0.99, w_adp:0_ssn95t6g.traces\n",
      "172801 172801 172801\n",
      "w_perf:0.01, w_res:0.99, w_adp:0_1nx9qe7p.traces\n",
      "172801 172801 172801\n",
      "w_perf:0.99, w_res:0.01, w_adp:0_5a3eu0vl.traces\n",
      "172801 172801 172801\n"
     ]
    }
   ],
   "source": [
    "root_folder = \"./logs\"\n",
    "# os.chdir(root_folder)\n",
    "files = [f for f in os.listdir(root_folder) if f.endswith(\"traces\")]\n",
    "# print(files)\n",
    "vnfs = []\n",
    "delay = []\n",
    "labels = []\n",
    "dict_labels = {}\n",
    "conf = 1\n",
    "for f in files:\n",
    "    print(f)\n",
    "    filename = os.path.join(root_folder, f)\n",
    "    label = f.split(\"_\")[:-1]\n",
    "    label = \"_\".join(label)\n",
    "    dict_labels[conf] = label\n",
    "    ms, peak_latency, lbls = parse_results(filename, conf)\n",
    "    print(len(ms), len(peak_latency), len(lbls))\n",
    "    vnfs.extend(ms)\n",
    "    delay.extend(peak_latency) \n",
    "    labels.extend(lbls)\n",
    "    conf +=1\n",
    "data = {\"CPU\": vnfs, \"Latency\": delay, \"Conf\": labels}"
   ]
  },
  {
   "cell_type": "code",
   "execution_count": 7,
   "metadata": {},
   "outputs": [
    {
     "name": "stdout",
     "output_type": "stream",
     "text": [
      "{1: 'w_perf:0.01, w_res:0.99, w_adp:0', 2: 'w_perf:0.99, w_res:0.01, w_adp:0', 3: 'w_perf:0.99, w_res:0.01, w_adp:0', 4: 'w_perf:0.99, w_res:0.01, w_adp:0', 5: 'w_perf:0.99, w_res:0.01, w_adp:0', 6: 'w_perf:0.01, w_res:0.99, w_adp:0', 7: 'w_perf:0.01, w_res:0.99, w_adp:0', 8: 'w_perf:0.01, w_res:0.99, w_adp:0', 9: 'w_perf:0.01, w_res:0.99, w_adp:0', 10: 'w_perf:0.99, w_res:0.01, w_adp:0'}\n"
     ]
    },
    {
     "data": {
      "text/html": [
       "<div>\n",
       "<style scoped>\n",
       "    .dataframe tbody tr th:only-of-type {\n",
       "        vertical-align: middle;\n",
       "    }\n",
       "\n",
       "    .dataframe tbody tr th {\n",
       "        vertical-align: top;\n",
       "    }\n",
       "\n",
       "    .dataframe thead th {\n",
       "        text-align: right;\n",
       "    }\n",
       "</style>\n",
       "<table border=\"1\" class=\"dataframe\">\n",
       "  <thead>\n",
       "    <tr style=\"text-align: right;\">\n",
       "      <th></th>\n",
       "      <th>Conf</th>\n",
       "      <th>CPU</th>\n",
       "      <th>Latency</th>\n",
       "      <th>Violation</th>\n",
       "    </tr>\n",
       "  </thead>\n",
       "  <tbody>\n",
       "    <tr>\n",
       "      <th>0</th>\n",
       "      <td>1</td>\n",
       "      <td>4.030416</td>\n",
       "      <td>0.050587</td>\n",
       "      <td>0.775221</td>\n",
       "    </tr>\n",
       "    <tr>\n",
       "      <th>1</th>\n",
       "      <td>2</td>\n",
       "      <td>11.174433</td>\n",
       "      <td>0.007029</td>\n",
       "      <td>0.007728</td>\n",
       "    </tr>\n",
       "    <tr>\n",
       "      <th>2</th>\n",
       "      <td>3</td>\n",
       "      <td>6.851523</td>\n",
       "      <td>0.007785</td>\n",
       "      <td>0.000023</td>\n",
       "    </tr>\n",
       "    <tr>\n",
       "      <th>3</th>\n",
       "      <td>4</td>\n",
       "      <td>4.943316</td>\n",
       "      <td>0.009595</td>\n",
       "      <td>0.002685</td>\n",
       "    </tr>\n",
       "    <tr>\n",
       "      <th>4</th>\n",
       "      <td>5</td>\n",
       "      <td>5.912049</td>\n",
       "      <td>0.008289</td>\n",
       "      <td>0.000046</td>\n",
       "    </tr>\n",
       "    <tr>\n",
       "      <th>5</th>\n",
       "      <td>6</td>\n",
       "      <td>4.027095</td>\n",
       "      <td>0.071493</td>\n",
       "      <td>0.890440</td>\n",
       "    </tr>\n",
       "    <tr>\n",
       "      <th>6</th>\n",
       "      <td>7</td>\n",
       "      <td>4.075532</td>\n",
       "      <td>0.032770</td>\n",
       "      <td>0.503822</td>\n",
       "    </tr>\n",
       "    <tr>\n",
       "      <th>7</th>\n",
       "      <td>8</td>\n",
       "      <td>4.025555</td>\n",
       "      <td>0.052406</td>\n",
       "      <td>0.777617</td>\n",
       "    </tr>\n",
       "    <tr>\n",
       "      <th>8</th>\n",
       "      <td>9</td>\n",
       "      <td>4.042384</td>\n",
       "      <td>0.041737</td>\n",
       "      <td>0.751523</td>\n",
       "    </tr>\n",
       "    <tr>\n",
       "      <th>9</th>\n",
       "      <td>10</td>\n",
       "      <td>4.369876</td>\n",
       "      <td>0.016324</td>\n",
       "      <td>0.157916</td>\n",
       "    </tr>\n",
       "  </tbody>\n",
       "</table>\n",
       "</div>"
      ],
      "text/plain": [
       "   Conf        CPU   Latency  Violation\n",
       "0     1   4.030416  0.050587   0.775221\n",
       "1     2  11.174433  0.007029   0.007728\n",
       "2     3   6.851523  0.007785   0.000023\n",
       "3     4   4.943316  0.009595   0.002685\n",
       "4     5   5.912049  0.008289   0.000046\n",
       "5     6   4.027095  0.071493   0.890440\n",
       "6     7   4.075532  0.032770   0.503822\n",
       "7     8   4.025555  0.052406   0.777617\n",
       "8     9   4.042384  0.041737   0.751523\n",
       "9    10   4.369876  0.016324   0.157916"
      ]
     },
     "execution_count": 7,
     "metadata": {},
     "output_type": "execute_result"
    }
   ],
   "source": [
    "df = pd.DataFrame.from_dict(data)\n",
    "max_latency = 0.024\n",
    "df['Violation'] = np.where(df['Latency']>max_latency, 1, 0)\n",
    "dataframe = df.groupby(['Conf'], as_index=False)\n",
    "dataframe[\"Violation\"].sum()/172800\n",
    "mean_cpu_delay_per_conf = dataframe.mean()\n",
    "print(dict_labels)\n",
    "mean_cpu_delay_per_conf"
   ]
  },
  {
   "cell_type": "code",
   "execution_count": 8,
   "metadata": {},
   "outputs": [
    {
     "data": {
      "image/png": "[encoded data removed]",
      "text/plain": [
       "<Figure size 360x216 with 1 Axes>"
      ]
     },
     "metadata": {
      "needs_background": "light"
     },
     "output_type": "display_data"
    }
   ],
   "source": [
    "plot_labels = list(dict_labels.values())\n",
    "fig, ax = plt.subplots(figsize=(5, 3))\n",
    "ax = sns.scatterplot(data=mean_cpu_delay_per_conf, x=\"CPU\", y=\"Latency\", hue=plot_labels, palette=\"deep\")\n",
    "plt.axhline(y=0.024, color='r', linestyle='-')\n",
    "ax.legend(loc='best', bbox_to_anchor=(1.0, 1.0), title=\"Conf\")\n",
    "plt.savefig('./pareto_lat_vnf.png', dpi=300, bbox_inches=\"tight\")\n",
    "plt.show()"
   ]
  },
  {
   "cell_type": "code",
   "execution_count": 9,
   "metadata": {},
   "outputs": [
    {
     "data": {
      "image/png": "[encoded data removed]",
      "text/plain": [
       "<Figure size 360x288 with 1 Axes>"
      ]
     },
     "metadata": {
      "needs_background": "light"
     },
     "output_type": "display_data"
    }
   ],
   "source": [
    "plot_labels = list(dict_labels.values())\n",
    "fig, ax = plt.subplots(figsize=(5, 4))\n",
    "ax = sns.scatterplot(data=mean_cpu_delay_per_conf, x=\"CPU\", y=\"Violation\", hue=plot_labels, palette=\"deep\")\n",
    "ax.legend(bbox_to_anchor=(1.0, 1.0), title=\"Conf\")\n",
    "plt.savefig('./pareto_viol_vnf.png', dpi=300, bbox_inches=\"tight\")\n",
    "plt.show()"
   ]
  },
  {
   "cell_type": "code",
   "execution_count": 26,
   "metadata": {},
   "outputs": [
    {
     "data": {
      "text/plain": [
       "138240.0"
      ]
     },
     "execution_count": 26,
     "metadata": {},
     "output_type": "execute_result"
    }
   ],
   "source": [
    "172800*0.8"
   ]
  },
  {
   "cell_type": "code",
   "execution_count": null,
   "metadata": {},
   "outputs": [],
   "source": []
  }
 ],
 "metadata": {
  "kernelspec": {
   "display_name": "Python 3 (ipykernel)",
   "language": "python",
   "name": "python3"
  },
  "language_info": {
   "codemirror_mode": {
    "name": "ipython",
    "version": 3
   },
   "file_extension": ".py",
   "mimetype": "text/x-python",
   "name": "python",
   "nbconvert_exporter": "python",
   "pygments_lexer": "ipython3",
   "version": "3.7.10"
  }
 },
 "nbformat": 4,
 "nbformat_minor": 1
}
