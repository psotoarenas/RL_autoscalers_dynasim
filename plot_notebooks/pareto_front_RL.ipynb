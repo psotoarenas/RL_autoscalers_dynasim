{
 "cells": [
  {
   "cell_type": "code",
   "execution_count": 1,
   "metadata": {
    "pycharm": {
     "is_executing": true
    }
   },
   "outputs": [],
   "source": [
    "import pandas as pd\n",
    "import matplotlib.pyplot as plt\n",
    "import matplotlib\n",
    "import random\n",
    "import numpy as np\n",
    "import os\n",
    "import matplotlib.pyplot as plt\n",
    "from matplotlib.gridspec import GridSpec\n",
    "import seaborn as sns\n",
    "import wandb"
   ]
  },
  {
   "cell_type": "code",
   "execution_count": 2,
   "metadata": {},
   "outputs": [
    {
     "name": "stdout",
     "output_type": "stream",
     "text": [
      "{'1auy65kc': 'w_perf:0.5, w_res:0.5', '199x57an': 'w_perf:0.99, w_res:0.01', '8fpohj3t': 'w_perf:0.01, w_res:0.99', '25dyobd0': 'w_perf:0.01, w_res:0.99', '1eb0524o': 'w_perf:0.01, w_res:0.99', 'z48zmjp8': 'w_perf:0.01, w_res:0.99', 'my832o7g': 'w_perf:0.01, w_res:0.99', '3li0d73t': 'w_perf:0.99, w_res:0.01', '2aq3cklv': 'w_perf:0.99, w_res:0.01', '1ddfwx0u': 'w_perf:0.99, w_res:0.01', '1r93qi6f': 'w_perf:0.99, w_res:0.01', '3nuxemp2': 'w_perf:0.5, w_res:0.5', '3foh6if1': 'w_perf:0.5, w_res:0.5', '1z5ktsa3': 'w_perf:0.5, w_res:0.5', '25o8i2l9': 'w_perf:0.5, w_res:0.5'}\n"
     ]
    },
    {
     "data": {
      "text/plain": [
       "15"
      ]
     },
     "execution_count": 2,
     "metadata": {},
     "output_type": "execute_result"
    }
   ],
   "source": [
    "# Get train run IDs and get labels\n",
    "\n",
    "api = wandb.Api()\n",
    "entity, project = \"psotoarenas\", \"RL-scalers-conf\"\n",
    "\n",
    "runs = api.runs(entity + \"/\" + project)\n",
    "id_to_label = {}\n",
    "for run in runs:\n",
    "    if run.state == \"finished\" and run.config['mode'] == \"train\" and run.config['agent_name']== \"PPO\" and run.config['w_adp'] == 0.:\n",
    "        # if run.config['w_adp'] == 0. and run.config['timesteps'] == 259200:            \n",
    "        # the labels are going to be configuration of weights used during training.\n",
    "        label = f\"w_perf:{run.config['w_perf']}, w_res:{run.config['w_res']}\"\n",
    "        id_to_label[run.id] = label\n",
    "print(id_to_label)\n",
    "len(id_to_label)       "
   ]
  },
  {
   "cell_type": "code",
   "execution_count": 3,
   "metadata": {},
   "outputs": [
    {
     "name": "stdout",
     "output_type": "stream",
     "text": [
      "Logs found with name python-20220728-183722.traces\n",
      "Saving test logfile to ./logs_pareto/1auy65kc.traces\n",
      "Logs found with name python-20220728-161529.traces\n",
      "Saving test logfile to ./logs_pareto/199x57an.traces\n",
      "Logs found with name python-20220728-143119.traces\n",
      "Saving test logfile to ./logs_pareto/8fpohj3t.traces\n",
      "Logs found with name python-20220728-024323.traces\n",
      "Saving test logfile to ./logs_pareto/25dyobd0.traces\n",
      "Logs found with name python-20220726-180948.traces\n",
      "Saving test logfile to ./logs_pareto/1eb0524o.traces\n",
      "Logs found with name python-20220726-180934.traces\n",
      "Saving test logfile to ./logs_pareto/z48zmjp8.traces\n",
      "Logs found with name python-20220722-213914.traces\n",
      "Saving test logfile to ./logs_pareto/my832o7g.traces\n",
      "Logs found with name python-20220722-174112.traces\n",
      "Saving test logfile to ./logs_pareto/3li0d73t.traces\n",
      "Logs found with name python-20220722-135339.traces\n",
      "Saving test logfile to ./logs_pareto/2aq3cklv.traces\n",
      "Logs found with name python-20220722-022428.traces\n",
      "Saving test logfile to ./logs_pareto/1ddfwx0u.traces\n",
      "Logs found with name python-20220722-022414.traces\n",
      "Saving test logfile to ./logs_pareto/1r93qi6f.traces\n",
      "Logs found with name python-20220721-220638.traces\n",
      "Saving test logfile to ./logs_pareto/3nuxemp2.traces\n",
      "Logs found with name python-20220721-160822.traces\n",
      "Saving test logfile to ./logs_pareto/3foh6if1.traces\n",
      "Logs found with name python-20220720-004142.traces\n",
      "Saving test logfile to ./logs_pareto/1z5ktsa3.traces\n",
      "Logs found with name python-20220719-201842.traces\n",
      "Saving test logfile to ./logs_pareto/25o8i2l9.traces\n"
     ]
    }
   ],
   "source": [
    "# Get test run traces to compute pareto \n",
    "\n",
    "api = wandb.Api()\n",
    "entity, project = \"psotoarenas\", \"RL-scalers-conf\"\n",
    "\n",
    "runs = api.runs(entity + \"/\" + project)\n",
    "for run in runs:\n",
    "    if run.state == \"finished\" and run.config['mode'] == \"test\":\n",
    "        train_run_id = run.config[\"train_id\"]\n",
    "        if train_run_id in id_to_label.keys():\n",
    "            # label = dict_labels[train_run_id]\n",
    "            name = f\"{train_run_id}.traces\"\n",
    "            # print(name)\n",
    "            root = \"./logs_pareto/\"\n",
    "            for file in run.files():\n",
    "                if file.name.startswith(\"python\") and file.name.endswith(\"traces\"):\n",
    "                    logs = file.name\n",
    "                    print(f\"Logs found with name {logs}\")\n",
    "            if not logs:\n",
    "                logs = \"output.log\"\n",
    "                print(f\"No logs found. Downloading default logs {logs}\")\n",
    "            run.file(logs).download(root=root, replace=True)\n",
    "            log_old_filename = os.path.join(root, logs)\n",
    "            log_new_filename = os.path.join(root, name)\n",
    "            print(f\"Saving test logfile to {log_new_filename}\")\n",
    "            os.rename(log_old_filename, log_new_filename)\n",
    "            \n",
    "            "
   ]
  },
  {
   "cell_type": "code",
   "execution_count": 4,
   "metadata": {},
   "outputs": [],
   "source": [
    "# auxiliary data for parse results\n",
    "def parse_results(traces_filename, label):\n",
    "    ms = []\n",
    "    peak_latency = []\n",
    "    labels = []\n",
    "    with open(traces_filename) as f:\n",
    "        current_step = 0\n",
    "        cumulative_reward = 0\n",
    "        for line in f:\n",
    "            try:\n",
    "                line = line.rstrip().split(\"|\")[-1]\n",
    "                if line.startswith(\"MS\"):\n",
    "                    ms.append(int(line.split(\":\")[-1].rstrip()))\n",
    "                    labels.append(label)\n",
    "                if line.startswith(\"Peak Latency\"):\n",
    "                    peak_latency.append(float(line.split(\":\")[-1].rstrip()))\n",
    "            except:\n",
    "                print(line)\n",
    "    return ms, peak_latency,labels"
   ]
  },
  {
   "cell_type": "code",
   "execution_count": 5,
   "metadata": {
    "pycharm": {
     "name": "#%%\n"
    }
   },
   "outputs": [
    {
     "name": "stdout",
     "output_type": "stream",
     "text": [
      "['199x57an.traces', '3nuxemp2.traces', '25dyobd0.traces', '1auy65kc.traces', '2aq3cklv.traces', '25o8i2l9.traces', '1ddfwx0u.traces', '8fpohj3t.traces', '3li0d73t.traces', '1r93qi6f.traces', '1z5ktsa3.traces', '1eb0524o.traces', 'my832o7g.traces', 'z48zmjp8.traces', '3foh6if1.traces']\n",
      "15 Files analyzed\n"
     ]
    }
   ],
   "source": [
    "root_folder = \"./logs_pareto/\"\n",
    "# os.chdir(root_folder)\n",
    "files = [f for f in os.listdir(root_folder) if f.endswith(\"traces\")]\n",
    "print(files)\n",
    "vnfs = []\n",
    "delay = []\n",
    "labels = []\n",
    "conf_to_label = {}\n",
    "conf_to_id = {}\n",
    "conf = 1\n",
    "for f in files:\n",
    "    filename = os.path.join(root_folder, f)\n",
    "    id = f.split(\".\")[0]\n",
    "    label = id_to_label[id]\n",
    "    conf_to_label[conf] = label\n",
    "    conf_to_id[conf] = id\n",
    "    ms, peak_latency, lbls = parse_results(filename, conf)\n",
    "    vnfs.extend(ms)\n",
    "    delay.extend(peak_latency) \n",
    "    labels.extend(lbls)\n",
    "    conf +=1\n",
    "data = {\"CPU\": vnfs, \"Latency\": delay, \"Conf\": labels}\n",
    "print(f\"{len(files)} Files analyzed\")"
   ]
  },
  {
   "cell_type": "code",
   "execution_count": null,
   "metadata": {},
   "outputs": [],
   "source": []
  },
  {
   "cell_type": "code",
   "execution_count": 6,
   "metadata": {},
   "outputs": [
    {
     "name": "stdout",
     "output_type": "stream",
     "text": [
      "{1: 'w_perf:0.99, w_res:0.01', 2: 'w_perf:0.5, w_res:0.5', 3: 'w_perf:0.01, w_res:0.99', 4: 'w_perf:0.5, w_res:0.5', 5: 'w_perf:0.99, w_res:0.01', 6: 'w_perf:0.5, w_res:0.5', 7: 'w_perf:0.99, w_res:0.01', 8: 'w_perf:0.01, w_res:0.99', 9: 'w_perf:0.99, w_res:0.01', 10: 'w_perf:0.99, w_res:0.01', 11: 'w_perf:0.5, w_res:0.5', 12: 'w_perf:0.01, w_res:0.99', 13: 'w_perf:0.01, w_res:0.99', 14: 'w_perf:0.01, w_res:0.99', 15: 'w_perf:0.5, w_res:0.5'}\n",
      "{1: '199x57an', 2: '3nuxemp2', 3: '25dyobd0', 4: '1auy65kc', 5: '2aq3cklv', 6: '25o8i2l9', 7: '1ddfwx0u', 8: '8fpohj3t', 9: '3li0d73t', 10: '1r93qi6f', 11: '1z5ktsa3', 12: '1eb0524o', 13: 'my832o7g', 14: 'z48zmjp8', 15: '3foh6if1'}\n"
     ]
    },
    {
     "data": {
      "text/html": [
       "<div>\n",
       "<style scoped>\n",
       "    .dataframe tbody tr th:only-of-type {\n",
       "        vertical-align: middle;\n",
       "    }\n",
       "\n",
       "    .dataframe tbody tr th {\n",
       "        vertical-align: top;\n",
       "    }\n",
       "\n",
       "    .dataframe thead th {\n",
       "        text-align: right;\n",
       "    }\n",
       "</style>\n",
       "<table border=\"1\" class=\"dataframe\">\n",
       "  <thead>\n",
       "    <tr style=\"text-align: right;\">\n",
       "      <th></th>\n",
       "      <th>Conf</th>\n",
       "      <th>CPU</th>\n",
       "      <th>Latency</th>\n",
       "      <th>Violation</th>\n",
       "    </tr>\n",
       "  </thead>\n",
       "  <tbody>\n",
       "    <tr>\n",
       "      <th>0</th>\n",
       "      <td>1</td>\n",
       "      <td>5.543695</td>\n",
       "      <td>0.008500</td>\n",
       "      <td>0.000023</td>\n",
       "    </tr>\n",
       "    <tr>\n",
       "      <th>1</th>\n",
       "      <td>2</td>\n",
       "      <td>5.110555</td>\n",
       "      <td>0.010668</td>\n",
       "      <td>0.013299</td>\n",
       "    </tr>\n",
       "    <tr>\n",
       "      <th>2</th>\n",
       "      <td>3</td>\n",
       "      <td>4.007442</td>\n",
       "      <td>0.464197</td>\n",
       "      <td>0.872287</td>\n",
       "    </tr>\n",
       "    <tr>\n",
       "      <th>3</th>\n",
       "      <td>4</td>\n",
       "      <td>4.068495</td>\n",
       "      <td>0.448346</td>\n",
       "      <td>0.825638</td>\n",
       "    </tr>\n",
       "    <tr>\n",
       "      <th>4</th>\n",
       "      <td>5</td>\n",
       "      <td>8.588596</td>\n",
       "      <td>0.007106</td>\n",
       "      <td>0.000023</td>\n",
       "    </tr>\n",
       "    <tr>\n",
       "      <th>5</th>\n",
       "      <td>6</td>\n",
       "      <td>5.001209</td>\n",
       "      <td>0.015927</td>\n",
       "      <td>0.023264</td>\n",
       "    </tr>\n",
       "    <tr>\n",
       "      <th>6</th>\n",
       "      <td>7</td>\n",
       "      <td>6.999913</td>\n",
       "      <td>0.007705</td>\n",
       "      <td>0.000023</td>\n",
       "    </tr>\n",
       "    <tr>\n",
       "      <th>7</th>\n",
       "      <td>8</td>\n",
       "      <td>4.244605</td>\n",
       "      <td>0.072130</td>\n",
       "      <td>0.249472</td>\n",
       "    </tr>\n",
       "    <tr>\n",
       "      <th>8</th>\n",
       "      <td>9</td>\n",
       "      <td>6.599383</td>\n",
       "      <td>0.007882</td>\n",
       "      <td>0.000023</td>\n",
       "    </tr>\n",
       "    <tr>\n",
       "      <th>9</th>\n",
       "      <td>10</td>\n",
       "      <td>5.327874</td>\n",
       "      <td>0.008641</td>\n",
       "      <td>0.000145</td>\n",
       "    </tr>\n",
       "    <tr>\n",
       "      <th>10</th>\n",
       "      <td>11</td>\n",
       "      <td>5.553122</td>\n",
       "      <td>0.009343</td>\n",
       "      <td>0.008987</td>\n",
       "    </tr>\n",
       "    <tr>\n",
       "      <th>11</th>\n",
       "      <td>12</td>\n",
       "      <td>4.151440</td>\n",
       "      <td>0.080511</td>\n",
       "      <td>0.449361</td>\n",
       "    </tr>\n",
       "    <tr>\n",
       "      <th>12</th>\n",
       "      <td>13</td>\n",
       "      <td>4.460970</td>\n",
       "      <td>0.042753</td>\n",
       "      <td>0.246399</td>\n",
       "    </tr>\n",
       "    <tr>\n",
       "      <th>13</th>\n",
       "      <td>14</td>\n",
       "      <td>4.002975</td>\n",
       "      <td>0.600751</td>\n",
       "      <td>0.916667</td>\n",
       "    </tr>\n",
       "    <tr>\n",
       "      <th>14</th>\n",
       "      <td>15</td>\n",
       "      <td>5.036921</td>\n",
       "      <td>0.010240</td>\n",
       "      <td>0.011215</td>\n",
       "    </tr>\n",
       "  </tbody>\n",
       "</table>\n",
       "</div>"
      ],
      "text/plain": [
       "    Conf       CPU   Latency  Violation\n",
       "0      1  5.543695  0.008500   0.000023\n",
       "1      2  5.110555  0.010668   0.013299\n",
       "2      3  4.007442  0.464197   0.872287\n",
       "3      4  4.068495  0.448346   0.825638\n",
       "4      5  8.588596  0.007106   0.000023\n",
       "5      6  5.001209  0.015927   0.023264\n",
       "6      7  6.999913  0.007705   0.000023\n",
       "7      8  4.244605  0.072130   0.249472\n",
       "8      9  6.599383  0.007882   0.000023\n",
       "9     10  5.327874  0.008641   0.000145\n",
       "10    11  5.553122  0.009343   0.008987\n",
       "11    12  4.151440  0.080511   0.449361\n",
       "12    13  4.460970  0.042753   0.246399\n",
       "13    14  4.002975  0.600751   0.916667\n",
       "14    15  5.036921  0.010240   0.011215"
      ]
     },
     "execution_count": 6,
     "metadata": {},
     "output_type": "execute_result"
    }
   ],
   "source": [
    "df = pd.DataFrame.from_dict(data)\n",
    "max_latency = 0.024\n",
    "df['Violation'] = np.where(df['Latency']>max_latency, 1, 0)\n",
    "dataframe = df.groupby(['Conf'], as_index=False)\n",
    "dataframe[\"Violation\"].sum()/172800\n",
    "mean_cpu_delay_per_conf = dataframe.mean()\n",
    "# mean_cpu_delay_per_conf.describe()\n",
    "print(conf_to_label)\n",
    "print(conf_to_id)\n",
    "mean_cpu_delay_per_conf"
   ]
  },
  {
   "cell_type": "code",
   "execution_count": 102,
   "metadata": {},
   "outputs": [
    {
     "data": {
      "image/png": "[encoded data removed]",
      "text/plain": [
       "<Figure size 360x216 with 1 Axes>"
      ]
     },
     "metadata": {
      "needs_background": "light"
     },
     "output_type": "display_data"
    }
   ],
   "source": [
    "plot_labels = list(conf_to_label.values())\n",
    "pi_ctrl_peak_lat = [0.00962]\n",
    "pi_ctrl_replicas = [4.82]\n",
    "pi_ctrl_violations = [9.84e-05]\n",
    "rl_violations = [[0.000023], [0.916667], [0.011215]]\n",
    "rl_peak_lat = [[0.008500], [0.600751], [0.010240]]\n",
    "rl_replicas = [[5.543695], [4.002975], [5.036921]]\n",
    "fig, ax = plt.subplots(figsize=(5, 3))\n",
    "ax = sns.scatterplot(data=mean_cpu_delay_per_conf, x=\"CPU\", y=\"Latency\", hue=plot_labels, palette=\"deep\", s=100)\n",
    "plt.axhline(y=0.024, color='r', linestyle='-')\n",
    "sns.scatterplot(x=pi_ctrl_replicas, y=pi_ctrl_peak_lat, color='black', marker=\"D\", label=\"control-based scaler\")\n",
    "sns.scatterplot(x=pi_ctrl_replicas, y=pi_ctrl_peak_lat, color='black', marker=\"D\", s=60)\n",
    "sns.scatterplot(x=rl_replicas[0], y=rl_peak_lat[0], s=100, color='navy', marker=\"o\")   #  w_perf:0.99, w_res:0.01\n",
    "sns.scatterplot(x=rl_replicas[1], y=rl_peak_lat[1], s=100, color='#054907', marker=\"o\")   #  w_perf:0.01, w_res:0.99\n",
    "sns.scatterplot(x=rl_replicas[2], y=rl_peak_lat[2], s=100, color='orangered', marker=\"o\")   #  w_perf:0.5, w_res:0.5\n",
    "ax.set_xlabel(\"Replicas\")\n",
    "ax.set_ylabel(\"Peak Latency (s)\")\n",
    "ax.legend(bbox_to_anchor=(1., 1.), title=\"Weight Values\")\n",
    "plt.savefig('./pareto_lat_vnf.pdf', dpi=300, bbox_inches=\"tight\")\n",
    "plt.show()"
   ]
  },
  {
   "cell_type": "code",
   "execution_count": 105,
   "metadata": {},
   "outputs": [
    {
     "data": {
      "image/png": "[encoded data removed]",
      "text/plain": [
       "<Figure size 360x216 with 1 Axes>"
      ]
     },
     "metadata": {
      "needs_background": "light"
     },
     "output_type": "display_data"
    }
   ],
   "source": [
    "plot_labels = list(conf_to_label.values())\t\n",
    "fig, ax = plt.subplots(figsize=(5, 3))\n",
    "ax = sns.scatterplot(data=mean_cpu_delay_per_conf, x=\"CPU\", y=\"Violation\", hue=plot_labels, palette=\"deep\", s=100)\n",
    "sns.scatterplot(x=pi_ctrl_replicas, y=pi_ctrl_violations, color='black', marker=\"D\", label=\"control-based scaler\")\n",
    "sns.scatterplot(x=pi_ctrl_replicas, y=pi_ctrl_violations, color='black', marker=\"D\", s=60)\n",
    "sns.scatterplot(x=rl_replicas[0], y=rl_violations[0], s=100, color='navy', marker=\"o\")   #  w_perf:0.99, w_res:0.01\n",
    "sns.scatterplot(x=rl_replicas[1], y=rl_violations[1], s=100, color='#054907', marker=\"o\")   #  w_perf:0.01, w_res:0.99\n",
    "sns.scatterplot(x=rl_replicas[2], y=rl_violations[2], s=100, color='orangered', marker=\"o\")   #  w_perf:0.5, w_res:0.5\n",
    "ax.set(yscale=\"log\")\n",
    "ax.legend(bbox_to_anchor=(1.0, 1.0), title=\"Weight Values\")\n",
    "ax.set_xlabel(\"Replicas\")\n",
    "ax.set_ylabel(\"Violations\")\n",
    "plt.savefig('./pareto_viol_vnf.pdf', dpi=300, bbox_inches=\"tight\")\n",
    "plt.show()"
   ]
  },
  {
   "cell_type": "code",
   "execution_count": 13,
   "metadata": {},
   "outputs": [
    {
     "data": {
      "image/png": "[encoded data removed]",
      "text/plain": [
       "<Figure size 432x288 with 1 Axes>"
      ]
     },
     "metadata": {
      "needs_background": "light"
     },
     "output_type": "display_data"
    }
   ],
   "source": [
    "fontsize=13\n",
    "trace_file = \"../trafficTrace.csv\"\n",
    "with open(trace_file) as f:\n",
    "    job_list = [int(el) for el in f.read().split()]\n",
    "\n",
    "fig, ax = plt.subplots()\n",
    "ax.plot(np.array(job_list))\n",
    "# ax.set_yscale('log')\n",
    "# ax.set_xlabel('Timesteps', fontsize=fontsize)\n",
    "# ax.set_ylabel('Rewards', fontsize=fontsize)\n",
    "ax.set_xlabel('Timesteps / Seconds', fontsize=fontsize)\n",
    "ax.set_ylabel('Incoming Traffic (jobs/s)', fontsize=fontsize)\n",
    "# max_reward = int(max(np.array(reward_cum['training'])))\n",
    "# txt = f\"Max Reward: {max_reward:,}\"\n",
    "# ax.text(0.1, 0.9, txt, transform=ax.transAxes, fontsize=fontsize)\n",
    "ax.set_title(\"Workload Trace.\", fontsize=fontsize)\n",
    "plt.savefig('./workload_trace.pdf', dpi=300, bbox_inches=\"tight\")\n",
    "plt.show()"
   ]
  },
  {
   "cell_type": "code",
   "execution_count": 110,
   "metadata": {},
   "outputs": [
    {
     "data": {
      "text/plain": [
       "0.009840000000000002"
      ]
     },
     "execution_count": 110,
     "metadata": {},
     "output_type": "execute_result"
    }
   ],
   "source": [
    "9.84e-05*100"
   ]
  },
  {
   "cell_type": "code",
   "execution_count": 111,
   "metadata": {},
   "outputs": [
    {
     "data": {
      "text/plain": [
       "600.7510000000001"
      ]
     },
     "execution_count": 111,
     "metadata": {},
     "output_type": "execute_result"
    }
   ],
   "source": [
    "0.600751*1e3"
   ]
  },
  {
   "cell_type": "code",
   "execution_count": null,
   "metadata": {},
   "outputs": [],
   "source": []
  }
 ],
 "metadata": {
  "kernelspec": {
   "display_name": "Python 3.7.10 ('dynasim')",
   "language": "python",
   "name": "python3"
  },
  "language_info": {
   "codemirror_mode": {
    "name": "ipython",
    "version": 3
   },
   "file_extension": ".py",
   "mimetype": "text/x-python",
   "name": "python",
   "nbconvert_exporter": "python",
   "pygments_lexer": "ipython3",
   "version": "3.7.10"
  },
  "vscode": {
   "interpreter": {
    "hash": "88d425ff4dc945c9752b3114e7930a88f1d79e7f1579ba2930d8d420771033bd"
   }
  }
 },
 "nbformat": 4,
 "nbformat_minor": 1
}
